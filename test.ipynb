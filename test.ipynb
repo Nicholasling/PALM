{
 "cells": [
  {
   "cell_type": "code",
   "execution_count": 4,
   "id": "f19b2b83-7f1d-48fb-b224-b1dc09538c41",
   "metadata": {},
   "outputs": [],
   "source": [
    "#!pip install google-cloud-aiplatform\n",
    "#!pip install --upgrade langchain\n",
    "#!pip install --upgrade chromadb\n",
    "#!pip install pypdf"
   ]
  },
  {
   "cell_type": "code",
   "execution_count": 1,
   "id": "3912929c-a977-4568-86ef-6580c10d2185",
   "metadata": {},
   "outputs": [],
   "source": [
    "import os\n",
    "import google.generativeai as palm\n",
    "import textwrap\n",
    "import numpy as np\n",
    "import pandas as pd\n",
    "import langchain\n",
    "import chromadb\n",
    "import shutil\n",
    "from chromadb.config import Settings\n",
    "from langchain.vectorstores import Chroma\n",
    "from langchain.document_loaders import DirectoryLoader\n",
    "from langchain.document_loaders import PyPDFDirectoryLoader\n",
    "#from langchain.document_loaders import PyPDFLoader # for loading the pdf\n",
    "from langchain.text_splitter import CharacterTextSplitter\n",
    "# from langchain.embeddings.google_palm import GooglePalmEmbeddings"
   ]
  },
  {
   "cell_type": "code",
   "execution_count": 3,
   "id": "c3927483-8f87-4829-856e-f852c424d827",
   "metadata": {},
   "outputs": [],
   "source": [
    "# palm.configure(api_key=os.environ[\"PALM_API_KEY\"])\n",
    "# palm_embedding_model = [m for m in palm.list_models() if 'embedText' in m.supported_generation_methods][0]\n",
    "# palm_text_model = [m for m in palm.list_models() if 'generateText' in m.supported_generation_methods][0]\n",
    "# print(palm_embedding_model.name)\n",
    "# print(palm_text_model.name)"
   ]
  },
  {
   "cell_type": "code",
   "execution_count": 4,
   "id": "eb10b4c6-865f-4e6a-bb90-622b801e1050",
   "metadata": {},
   "outputs": [],
   "source": [
    "palm.configure(api_key=os.environ[\"PALM_API_KEY\"])\n",
    "embedding_model = [m for m in palm.list_models() if 'embedText' in m.supported_generation_methods][0]\n",
    "text_model = [m for m in palm.list_models() if 'generateText' in m.supported_generation_methods][0]"
   ]
  },
  {
   "cell_type": "markdown",
   "id": "8b70d641-5106-485b-a5b6-5d87d97ee7e5",
   "metadata": {},
   "source": [
    "## creating dataframe for pdf files"
   ]
  },
  {
   "cell_type": "code",
   "execution_count": 5,
   "id": "a93341fe-d41a-4c90-9ad4-a6837483a872",
   "metadata": {},
   "outputs": [],
   "source": [
    "docs_directory = str(os.getcwd()) + '/test'\n",
    "loader = PyPDFDirectoryLoader(f\"{docs_directory}\")\n",
    "# documents = loader.load()\n",
    "docs = loader.load_and_split()"
   ]
  },
  {
   "cell_type": "code",
   "execution_count": 6,
   "id": "3ac5c579-2c22-4373-8331-bcf833ea40be",
   "metadata": {},
   "outputs": [
    {
     "data": {
      "text/plain": [
       "260"
      ]
     },
     "execution_count": 6,
     "metadata": {},
     "output_type": "execute_result"
    }
   ],
   "source": [
    "len(docs)"
   ]
  },
  {
   "cell_type": "code",
   "execution_count": 7,
   "id": "9af0d4f8-bc78-4212-92d2-d87ffae2299c",
   "metadata": {},
   "outputs": [
    {
     "name": "stdout",
     "output_type": "stream",
     "text": [
      "The total words in the context:  428167\n"
     ]
    }
   ],
   "source": [
    "context = \"\\n\".join(str(p.page_content) for p in docs)\n",
    "print(\"The total words in the context: \", len(context))"
   ]
  },
  {
   "cell_type": "code",
   "execution_count": 8,
   "id": "6b4e41e5-3f33-4e20-b450-0d74b1183afd",
   "metadata": {},
   "outputs": [],
   "source": [
    "# Convert the list of dictionaries to a DataFrame\n",
    "data = {\n",
    "    'context': [doc.page_content for doc in docs],\n",
    "    'source': [doc.metadata['source'] for doc in docs],\n",
    "    'page': [doc.metadata['page'] for doc in docs]\n",
    "}\n",
    "df = pd.DataFrame(data)"
   ]
  },
  {
   "cell_type": "code",
   "execution_count": 11,
   "id": "2595ca9f-5d1f-4500-9d15-39e1655b2733",
   "metadata": {},
   "outputs": [
    {
     "name": "stdout",
     "output_type": "stream",
     "text": [
      "7/24/23, 10:54 PM About Fund-Raisers\n",
      "https://www .charities.gov .sg/Pages/Fund-Raising/About-Fund-Raisers.aspx 1/1About Fund-Raisers\n",
      "Organisations (including charities and Institutions of a Public Character (IPCs)) or individuals may raise funds for charitable,\n",
      "benevolent or philanthropic purposes, such as to support a charity’s operations or programmes, or to provide financial aid for\n",
      "disaster relief in other countries. \n",
      "\"Fund-raising appeal\" is defined as an appeal to any persons to give money or property, or a receipt from any persons of money or\n",
      "property for charitable, benevolent or philanthropic purposes.  All fund-raising appeals in Singapore, whether online or offline,\n",
      "regardless if it is for local or foreign charitable, benevolent or philanthropic purposes, are regulated under the Charities Act, Charities\n",
      "(Fund-Raising Appeals for Local and Foreign Charitable Purposes) Regulations 2012 and the Charities (Institutions of A Public\n",
      "Character) Regulations (for IPCs).\n",
      "This section provides information on what are the key areas to look out for when conducting fund-raising appeals in Singapore for\n",
      "charitable, benevolent or philanthropic purposes, and the types of permits required for different fund-raising appeals undertaken by\n",
      "a charity or IPC, commercial fund-raiser or commercial participator or any person. For instance, if you wish to conduct fund-raising\n",
      "appeals for foreign charitable purposes, you must apply to the Commissioner of Charities for a permit via GoBusiness Licensing. ABOUT FUND-RAISERS\n",
      "HOME /\n",
      "About Fund-Raisers\n"
     ]
    }
   ],
   "source": [
    "print(df['context'][0])"
   ]
  },
  {
   "cell_type": "code",
   "execution_count": 12,
   "id": "fa173d6a-ac19-4ddf-a06f-d10e49c0c7a9",
   "metadata": {},
   "outputs": [
    {
     "name": "stdout",
     "output_type": "stream",
     "text": [
      "<class 'pandas.core.frame.DataFrame'>\n",
      "RangeIndex: 260 entries, 0 to 259\n",
      "Data columns (total 3 columns):\n",
      " #   Column   Non-Null Count  Dtype \n",
      "---  ------   --------------  ----- \n",
      " 0   context  260 non-null    object\n",
      " 1   source   260 non-null    object\n",
      " 2   page     260 non-null    int64 \n",
      "dtypes: int64(1), object(2)\n",
      "memory usage: 6.2+ KB\n"
     ]
    }
   ],
   "source": [
    "df.info()"
   ]
  },
  {
   "cell_type": "code",
   "execution_count": 28,
   "id": "532d4b18-ebb5-4982-811e-a42b37e76561",
   "metadata": {},
   "outputs": [],
   "source": [
    "# import csv\n",
    "# from io import StringIO\n",
    "\n",
    "# for index, row in df.iterrows():\n",
    "#     text = row['context']\n",
    "#     escaped_text = csv.writer(StringIO(), quoting=csv.QUOTE_NONNUMERIC).writerow([text])\n",
    "#     if text != escaped_text:\n",
    "#         print(f\"Row {index}: '{text}' needs to be escaped as '{escaped_text}'\")"
   ]
  },
  {
   "cell_type": "code",
   "execution_count": 13,
   "id": "603c814d-d34f-4fe7-aee7-e48f4e87f689",
   "metadata": {},
   "outputs": [],
   "source": [
    "df.to_csv('fund.csv', index=False, escapechar='\\\\')\n",
    "#df.to_csv('fund.csv', index=False)"
   ]
  },
  {
   "cell_type": "code",
   "execution_count": 14,
   "id": "d30d1e29-328c-44a6-83ac-5b3cffafaacc",
   "metadata": {},
   "outputs": [
    {
     "name": "stdout",
     "output_type": "stream",
     "text": [
      "<class 'pandas.core.frame.DataFrame'>\n",
      "RangeIndex: 260 entries, 0 to 259\n",
      "Data columns (total 3 columns):\n",
      " #   Column   Non-Null Count  Dtype \n",
      "---  ------   --------------  ----- \n",
      " 0   context  260 non-null    object\n",
      " 1   source   260 non-null    object\n",
      " 2   page     260 non-null    int64 \n",
      "dtypes: int64(1), object(2)\n",
      "memory usage: 6.2+ KB\n"
     ]
    }
   ],
   "source": [
    "df.info()"
   ]
  },
  {
   "cell_type": "code",
   "execution_count": 35,
   "id": "f0f98ecc-2cb1-4cbb-8f04-e04e9b66908d",
   "metadata": {},
   "outputs": [],
   "source": [
    "# Get the embeddings of each text and add to an embeddings column in the dataframe\n",
    "def embed_fn(text):\n",
    "    return palm.generate_embeddings(model=embedding_model, text=text)['embedding']"
   ]
  },
  {
   "cell_type": "code",
   "execution_count": 45,
   "id": "e2158444-76ff-475a-a1a2-1628f38168e0",
   "metadata": {},
   "outputs": [],
   "source": [
    "def find_best_passage(query, dataframe):\n",
    "    \"\"\"\n",
    "    Compute the distances between the query and each document in the dataframe\n",
    "    using the dot product.\n",
    "    \"\"\"\n",
    "    query_embedding = palm.generate_embeddings(model=embedding_model, text=query)\n",
    "    print(len(query_embedding['embedding']))\n",
    "    dot_products = np.dot(np.stack(dataframe['embedding']), query_embedding['embedding'])\n",
    "\n",
    "    #idx = np.argmax(dot_products)\n",
    "    idx_topn = np.argsort(dot_products)[::-1][:10]\n",
    "    tmp_text = \"\"\n",
    "    \n",
    "    for idx in idx_topn:\n",
    "        tmp_text = tmp_text + str(dataframe.iloc[idx]['page_content']) + \"\\n\\n\"\n",
    "    \n",
    "    return tmp_text # Return text from index with max value\n"
   ]
  },
  {
   "cell_type": "code",
   "execution_count": 37,
   "id": "f86da0d5-716f-4da5-b99f-1fd6c96c73cc",
   "metadata": {},
   "outputs": [],
   "source": [
    "def make_prompt(query,df):\n",
    "    relevant_passage=find_best_passage(query,df)\n",
    "    escaped = relevant_passage.replace(\"'\", \"\").replace('\"', \"\").replace(\"\\n\", \" \")\n",
    "    prompt = textwrap.dedent(\"\"\"You are an intelligent customer support from People Association (PA) Singapore. You are a helpful and informative bot that answers questions using text from the reference passages included below. \\\n",
    "    Be sure to respond in a complete sentence, being comprehensive, including all relevant background information. \\\n",
    "    However, you are talking to a non-technical audience, so be sure to break down complicated concepts and \\\n",
    "    strike a friendly and converstional tone. \\\n",
    "    If the passage is irrelevant to the answer, you may ignore it.\n",
    "    QUESTION: '{query}'\n",
    "    PASSAGE: '{relevant_passage}'\n",
    "\n",
    "    ANSWER:\n",
    "    \"\"\").format(query=query, relevant_passage=escaped)\n",
    "    print(prompt)\n",
    "    return prompt"
   ]
  },
  {
   "cell_type": "code",
   "execution_count": 38,
   "id": "10fee944-bfb9-48e2-bed0-9bdbdf085d1d",
   "metadata": {},
   "outputs": [],
   "source": [
    "def answer_query_with_context(query,df):\n",
    "    answer = palm.generate_text(prompt=make_prompt(query,df),\n",
    "                                model=text_model,\n",
    "                                candidate_count=1,\n",
    "                                temperature=0,\n",
    "                                max_output_tokens=500)\n",
    "    print(answer.result)\n",
    "    return answer.result\n",
    "    # return answer.result.strip(\" \\n\").replace('\\n', '<br />')\n"
   ]
  },
  {
   "cell_type": "code",
   "execution_count": 40,
   "id": "32fcb37f-3c09-4618-b86f-58512527a36f",
   "metadata": {},
   "outputs": [],
   "source": [
    "embedding_model = [m for m in palm.list_models() if 'embedText' in m.supported_generation_methods][0]"
   ]
  },
  {
   "cell_type": "code",
   "execution_count": 41,
   "id": "5735ca54-8a1a-410a-8300-bd1dbf67c49d",
   "metadata": {},
   "outputs": [
    {
     "name": "stdout",
     "output_type": "stream",
     "text": [
      "start generating embeddings ...\n",
      "finished generating embeddings\n"
     ]
    }
   ],
   "source": [
    "print(\"start generating embeddings ...\")\n",
    "df['embedding'] = df['page_content'].apply(embed_fn)\n",
    "print(\"finished generating embeddings\")"
   ]
  },
  {
   "cell_type": "code",
   "execution_count": 42,
   "id": "1698f02c-0342-49e6-b575-091cea62bf7d",
   "metadata": {},
   "outputs": [
    {
     "data": {
      "text/html": [
       "<div>\n",
       "<style scoped>\n",
       "    .dataframe tbody tr th:only-of-type {\n",
       "        vertical-align: middle;\n",
       "    }\n",
       "\n",
       "    .dataframe tbody tr th {\n",
       "        vertical-align: top;\n",
       "    }\n",
       "\n",
       "    .dataframe thead th {\n",
       "        text-align: right;\n",
       "    }\n",
       "</style>\n",
       "<table border=\"1\" class=\"dataframe\">\n",
       "  <thead>\n",
       "    <tr style=\"text-align: right;\">\n",
       "      <th></th>\n",
       "      <th>page_content</th>\n",
       "      <th>source</th>\n",
       "      <th>page</th>\n",
       "      <th>embedding</th>\n",
       "    </tr>\n",
       "  </thead>\n",
       "  <tbody>\n",
       "    <tr>\n",
       "      <th>0</th>\n",
       "      <td>First published in the Government Gazette , El...</td>\n",
       "      <td>C:\\Users\\chatgptadmin\\Documents\\FAQ_FUND_chatb...</td>\n",
       "      <td>0</td>\n",
       "      <td>[-0.03116282, -0.037926417, -0.030958083, 0.01...</td>\n",
       "    </tr>\n",
       "    <tr>\n",
       "      <th>1</th>\n",
       "      <td>(b) any exempt charity or charity registered u...</td>\n",
       "      <td>C:\\Users\\chatgptadmin\\Documents\\FAQ_FUND_chatb...</td>\n",
       "      <td>1</td>\n",
       "      <td>[-0.030313207, -0.027389854, -0.022180524, 0.0...</td>\n",
       "    </tr>\n",
       "    <tr>\n",
       "      <th>2</th>\n",
       "      <td>Made this 23rd day of August 2011.\\nCHAN HENG ...</td>\n",
       "      <td>C:\\Users\\chatgptadmin\\Documents\\FAQ_FUND_chatb...</td>\n",
       "      <td>2</td>\n",
       "      <td>[-0.017592462, -0.025003977, -0.056929152, -0....</td>\n",
       "    </tr>\n",
       "    <tr>\n",
       "      <th>3</th>\n",
       "      <td>First published in the Government Gazette , El...</td>\n",
       "      <td>C:\\Users\\chatgptadmin\\Documents\\FAQ_FUND_chatb...</td>\n",
       "      <td>0</td>\n",
       "      <td>[-0.02403276, -0.042849418, 0.0014022454, -0.0...</td>\n",
       "    </tr>\n",
       "    <tr>\n",
       "      <th>4</th>\n",
       "      <td>PART III\\nCONTROL OF FUND-RAISING FOR\\nCHARITA...</td>\n",
       "      <td>C:\\Users\\chatgptadmin\\Documents\\FAQ_FUND_chatb...</td>\n",
       "      <td>1</td>\n",
       "      <td>[-0.005580242, -0.044570442, -0.0045610387, 0....</td>\n",
       "    </tr>\n",
       "  </tbody>\n",
       "</table>\n",
       "</div>"
      ],
      "text/plain": [
       "                                        page_content  \\\n",
       "0  First published in the Government Gazette , El...   \n",
       "1  (b) any exempt charity or charity registered u...   \n",
       "2  Made this 23rd day of August 2011.\\nCHAN HENG ...   \n",
       "3  First published in the Government Gazette , El...   \n",
       "4  PART III\\nCONTROL OF FUND-RAISING FOR\\nCHARITA...   \n",
       "\n",
       "                                              source  page  \\\n",
       "0  C:\\Users\\chatgptadmin\\Documents\\FAQ_FUND_chatb...     0   \n",
       "1  C:\\Users\\chatgptadmin\\Documents\\FAQ_FUND_chatb...     1   \n",
       "2  C:\\Users\\chatgptadmin\\Documents\\FAQ_FUND_chatb...     2   \n",
       "3  C:\\Users\\chatgptadmin\\Documents\\FAQ_FUND_chatb...     0   \n",
       "4  C:\\Users\\chatgptadmin\\Documents\\FAQ_FUND_chatb...     1   \n",
       "\n",
       "                                           embedding  \n",
       "0  [-0.03116282, -0.037926417, -0.030958083, 0.01...  \n",
       "1  [-0.030313207, -0.027389854, -0.022180524, 0.0...  \n",
       "2  [-0.017592462, -0.025003977, -0.056929152, -0....  \n",
       "3  [-0.02403276, -0.042849418, 0.0014022454, -0.0...  \n",
       "4  [-0.005580242, -0.044570442, -0.0045610387, 0....  "
      ]
     },
     "execution_count": 42,
     "metadata": {},
     "output_type": "execute_result"
    }
   ],
   "source": [
    "df.head()"
   ]
  },
  {
   "cell_type": "code",
   "execution_count": 44,
   "id": "1b0cb6df-3c1a-4543-a088-79190a5fbdf9",
   "metadata": {},
   "outputs": [
    {
     "data": {
      "text/plain": [
       "768"
      ]
     },
     "execution_count": 44,
     "metadata": {},
     "output_type": "execute_result"
    }
   ],
   "source": [
    "len(df['embedding'][0]) # PALM embedding vectors is always 768 long"
   ]
  },
  {
   "cell_type": "code",
   "execution_count": 48,
   "id": "9187ee49-501c-4ffb-80fb-9c16026de651",
   "metadata": {},
   "outputs": [
    {
     "name": "stdout",
     "output_type": "stream",
     "text": [
      "768\n",
      "You are an intelligent customer support from People Association (PA) Singapore. You are a helpful and informative bot that answers questions using text from the reference passages included below.     Be sure to respond in a complete sentence, being comprehensive, including all relevant background information.     However, you are talking to a non-technical audience, so be sure to break down complicated concepts and     strike a friendly and converstional tone.     If the passage is irrelevant to the answer, you may ignore it.\n",
      "    QUESTION: 'what does charity mean'\n",
      "    PASSAGE: '(a) the whole or part of — (i) the consideration given for goods or services sold or supplied by the commercial participatoror person; or (ii) any proceeds (other than such consideration) of a promotional venture undertaken by the commercial participator or person; or (b) sums given by the commercial participator or person by way of donation in connection with the sale or supply of any such goods or services (whether the amount of such sums is determined by reference to the value of the goods or services or otherwise); “charitable institution ”means a charity or an institution (other than a charity) which is established for charitable, benevolentor philanthropic purposes; “collector ”, in relation to a fund-raising appeal, means any person by whom that appeal is made (whether made by the person alone or with others and whether made by the person for remuneration or otherwise); “commercial fund-raiser ”means any person who for reward solicits or otherwise procures money or other property for, or purportedly for, the benefit of a charity or any charitable, benevolent or philanthropic purpose; “commercial participator ”, in relation to any charitable institution, means any person who carries on for gain a business other than a fund-raising business, but in the course of that business, engages in any promotional venture in thecourse of which it is represented that charitable contributions are to be given to or applied for the benefit of the institution; “fund-raising appeal ”means — (a) an appeal by any person, whether made expressly or impliedly, for money or other property (whether as consideration or otherwise) that is made in association with a representation that the whole orCharities Act 1994 59 2020 Ed. Informal Consolidation –version in force from 1/4/2023  (a) any reference to its production is to be construed as a reference to the furnishing of a copy of it in legible form; and (b) any reference to the furnishing of a copy of, or extract from, it is to be accordingly construed as a reference to the furnishing of a copy of, or extract from, it in legible form; “electronic record ”has the meaning given by the Electronic Transactions Act 2010; “exempt charity ”means a charity specified in the Schedule; “financial year ”— (a) in relation to a charity which is a company, is to be construed in accordance with the Companies Act 1967; and (b) in relation to any other charity, is to be construed in accordance with regulations made under section 12(1); “governing board members ”means members of the governing body of a charity or trustees for a charity having the general control and management of the administration of the charity; “governing instruments ”, in relation to a charity, means the provisions establishing it as a charity and regulating itspurposes and administration, whether or not those provisions take effect by way of trust or are set out in any document, and in relation to other institutions has a corresponding meaning; “gross income ”, in relation to a charity, means its gross recorded receipts from all sources; “institution ”includes any trust or undertaking; “key officer ”, in relation to — (a) a charity; (b) a person that is a governing board member of a charity; orCharities Act 1994 5 2020 Ed. Informal Consolidation –version in force from 1/4/2023  and references to the supply of services are to be construed accordingly. [34/2010; 2/2018] (2) In this Part and any regulations made for the purpose of this Part— (a) any reference to charitable purposes, where occurring in the context of a reference to charitable, benevolent orphilanthropic purposes, is a reference to charitable purposes whether or not the purposes are charitable within the meaning of any rule of law; and (b) any reference to soliciting or otherwise procuring money or other property is a reference to soliciting or otherwise procuring money or other property whether any consideration is, or is to be, given in return for the money or other property or not. [34/2010] (3) Where — (a) any solicitation of money or other property for the benefit of a charitable institution is made in accordance with arrangements between any person and that institution; and (b) under those arrangements, the person will be responsible for receiving on behalf of the institution money or other property given in response to the solicitation, then (if the person would not be so regarded apart from this subsection) that person is regarded for the purposes of this Part as soliciting money or other property for the benefit of the institution. [39 [34/2010] Prohibition on conducting fund-raising appeal without permit 36.—(1) No person may conduct or participate in any fund-raising appeal unless the person is — (a) exempt from the provision of this section; orCharities Act 1994 61 2020 Ed. Informal Consolidation –version in force from 1/4/2023  the person may apply to the General Division of the High Court for relief, and the General Division of the High Court has the same power to relieve the person as it would have had, under subsection (1), if it had been a court before which proceedings against the person for negligence, default, breach of duty or breach of trust had been brought. [34/2010; 40/2019] (3) Without limiting subsection (1), the circumstances of the case referred to in subsection (1) may include the circumstances connected with the appointment of the person. [34/2010] (4) To avoid doubt and without limiting subsection (1), “liability ” includes the liability of a person to whom this section applies to account for profits made or received. [34/2010] (5) The persons to whom this section applies are — (a) governing board members or trustees for charities; and (b) receivers and managers in respect of the property and affairs of a charity (whether appointed under this Act or otherwise). [32A [34/2010] PART 8 FUND-RAISING APPEALS Interpretation of this Part 35.—(1) In this Part and any regulations made for the purpose of this Part, unless the context otherwise requires — “charitable contributions ”, in relation to any representation made by any commercial participator or other person, means —Charities Act 1994 2020 Ed. 58 Informal Consolidation –version in force from 1/4/2023  “credit card ”has the meaning given by section 56 of the Banking Act 1970; [S 13/2021 wef 08/01/2021] [S 18/2023 wef 31/12/2021] “debit card ”means a card the use of which by its holder to make a payment results in any account of his at a bank, or at anyother institution providing banking services, being debited with the payment; “fund-raising business ”and“promotional venture ”have the meanings given by section 35(1) of the Act; [S 13/2021 wef 08/01/2021] [S 18/2023 wef 31/12/2021] [Deleted by S 13/2021 wef 08/01/2021 ] “radio or television programme ”includes any item included in a broadcasting service within the meaning of the BroadcastingAct 1994; [S 18/2023 wef 31/12/2021] “represent ”and “solicit ”have the meanings given by section 35(1) of the Act; [S 13/2021 wef 08/01/2021] [S 18/2023 wef 31/12/2021] “services ”includes facilities and, in particular — (a) access to any premises or event; (b) membership of any organisation; (c) the provision of advertising space; and (d) the provision of any financial facilities, and references to the supply of services shall be construed accordingly. (2) In this Part — (a) any reference to charitable purposes, where occurring in the context of a reference to charitable, benevolent or philanthropic purposes, shall be a reference to charitableS 530/2012 16 Informal Consolidation –version in force from 31/12/2021  any part of the money or property, or proceeds or returns from the money or property, will be applied for any charitable, benevolent or philanthropic purpose; or (b) the receipt by any person of any money or other property (whether as consideration or otherwise) that is given in whole or in part for any charitable, benevolent or philanthropic purpose; “fund-raising business ”means any business carried on for gain and wholly or primarily engaged in soliciting or otherwise procuring money or other property for charitable, benevolent or philanthropic purposes; “proceeds ”, in relation to a fund-raising appeal, means all money or other property given (whether for consideration or otherwise) in response to the fund-raising appeal in question; “promotional venture ”means any advertising or sales campaign or any other venture undertaken for promotional purposes; “represent ”and “solicit ”mean, respectively, represent and solicit in any manner, whether expressly or impliedly and whether done — (a) by speaking directly to the person or persons to whom the representation or solicitation is addressed (whether or not in the presence of the person or persons); or (b) by means of a statement published in any newspaper, film or radio or television programme, or otherwise, and references to a representation or solicitation are to be construed accordingly; “services ”includes facilities and, in particular — (a) access to any premises or event; (b) membership of any organisation; (c) the provision of advertising space; and (d) the provision of any financial facilities,Charities Act 1994 2020 Ed. 60 Informal Consolidation –version in force from 1/4/2023  properly incurred by the governing board members of the charity in connection with claims relating to the donors ’gifts. [34/2010] (7) For the purposes of this section, charitable purposes are deemed to fail where any difficulty in applying property to those purposesmakes that property or the part not applicable cy-près available to be returned to the donors. (8) In this section, except insofar as the context otherwise requires, references to a donor include persons claiming through or under the original donor, and references to property given include the property for the time being representing the property originally given or property derived from it. (9) This section applies to property given for charitable purposes, even though it was so given before 1 January 1995. [22 Entrusting charity property to Public Trustee and termination of trust 21.—(1) The General Division of the High Court may by order vest any property held by or in trust for a charity in the Public Trustee or authorise or require the persons in whom the property is vested to transfer it to the Public Trustee, or appoint any person to transfer the property to the Public Trustee; and the property may be vested in thePublic Trustee with or without powers of management as the General Division of the High Court may direct. [40/2019] (2) Where any property is held by or in trust for a charity, or is comprised in any testamentary gift to a charity, the property may, with the agreement of the Public Trustee, be transferred to him or her; and the Public Trustee ’s receipt for the property comprised in a testamentary gift to a charity is a complete discharge of the personal representative. (3) Where property is vested in the Public Trustee in trust for a charity, the General Division of the High Court may make an orderdischarging the Public Trustee from the trusteeship as respects all or any of that property. [40/2019]Charities Act 1994 35 2020 Ed. Informal Consolidation –version in force from 1/4/2023  (c) a person that is a member of a charity, means an individual who, whether or not an employee of the charity or person (as the case may be) and by whatever namecalled, and whether acting alone or together with any other person — (d) has general control and management of all or any aspect (including the financial aspect) of the administration of the charity or person; or (e) provides advice to the charity or person on the control and management mentioned in paragraph ( d), other than as a professional engaged or retained pursuant to a contract for service to provide such advice in thatprofessional capacity; “public accountant ”means a person who is registered or deemed to be registered under the Accountants Act 2004 as a public accountant; “public authority ”means — (a) an Organ of State or a public officer of the Organ of State; (b) a ministry or department of the Government or a public officer of the ministry or department; or (c) a public authority established by or under any public Act for a public purpose or an officer or an employee of the public authority; “trustee ”has the meaning given by the Trustees Act 1967. [34/2010; 2/2018; 40/2019] (2) References in this Act to a charity whose income from all sources does not in aggregate amount to more than a specified amount are to be construed — (a) by reference to the gross receipts of the charity; or (b) if the Commissioner so determines, by reference to the amount which he or she estimates to be the likely amount of those receipts,Charities Act 1994 2020 Ed. 6 Informal Consolidation –version in force from 1/4/2023  (5) This section applies to property given for charitable purposes, even though it was so given before 1 January 1995. [21 Application cy-près of gifts of donors unknown or disclaiming 20.—(1) Property given for specific charitable purposes which fail is to be applicable cy-près as if given for charitable purposes generally, where it belongs to a donor who — (a) after the prescribed advertisements and inquiries have been published and made, and after the prescribed periodbeginning with the publication of those advertisements has expired, cannot be identified or cannot be found; or (b) has executed a disclaimer in the prescribed form of the donor ’s right to have the property returned. (2) Where the prescribed advertisements and inquiries have been published and made by or on behalf of trustees with respect to any such property, the trustees are not liable to pay to any person in respect of the property if no claim by the person to be interested in the property is received by the trustees before the expiry of the periodspecified in subsection (1)( a). (3) For the purposes of this section, property is conclusively presumed (without any advertisement or inquiry) to belong to donors who cannot be identified, insofar as it consists of the proceeds of — (a) cash collections made by means of collecting boxes or by other means not adapted for distinguishing one gift from another; or (b) any lottery, competition, entertainment, sale or similar money-raising activity, after allowing for property given to provide prizes or articles for sale or otherwise to enable the activity to be undertaken. (4) The General Division of the High Court may by order direct that property not falling within subsection (3) is, for the purposes of this section, to be treated (without any advertisement or inquiry) as belonging to donors who cannot be identified, where it appears to theGeneral Division of the High Court —Charities Act 1994 33 2020 Ed. Informal Consolidation –version in force from 1/4/2023  charities and institutions of a public character, the regulation of fund-raising activities carried on in connection with charities and other institutions and the conduct of fund-raising appeals, and for purposes connected therewith. [1 January 1995: Except Part VII ] PART 1 PRELIMINARY Short title 1.This Act is the Charities Act 1994. Interpretation 2.—(1) In this Act, unless the context otherwise requires — “charitable company ”means a charity which is a company or other body corporate; “charitable purposes ”means purposes which are exclusively charitable according to the law of Singapore; “charity ”means any institution, corporate or not, which is established for charitable purposes and is subject to thecontrol of the General Division of the High Court in exercise of the jurisdiction of the General Division of the High Court with respect to charities; “Commissioner ”means the Commissioner of Charities appointed under section 3; “company ”means a company incorporated or registered under any law in force in Singapore or elsewhere; “Council ”means the Charity Council established under section 5; “document ”includes information recorded in any form, and, in relation to information recorded otherwise than in legible form —Charities Act 1994 2020 Ed. 4 Informal Consolidation –version in force from 1/4/2023  '\n",
      "\n",
      "    ANSWER:\n",
      "\n",
      "According to the Charities Act 1994, a charity is any institution, corporate or not, which is established for charitable purposes and is subject to the control of the General Division of the High Court in exercise of the jurisdiction of the General Division of the High Court with respect to charities.\n"
     ]
    },
    {
     "data": {
      "text/plain": [
       "'According to the Charities Act 1994, a charity is any institution, corporate or not, which is established for charitable purposes and is subject to the control of the General Division of the High Court in exercise of the jurisdiction of the General Division of the High Court with respect to charities.'"
      ]
     },
     "execution_count": 48,
     "metadata": {},
     "output_type": "execute_result"
    }
   ],
   "source": [
    "query = \"what does charity mean\"\n",
    "answer_query_with_context(query,df)"
   ]
  },
  {
   "cell_type": "code",
   "execution_count": null,
   "id": "08eefcca-c2cf-4bac-bf6d-5d23051b1e8d",
   "metadata": {},
   "outputs": [],
   "source": []
  },
  {
   "cell_type": "markdown",
   "id": "db37e917-b601-419d-9b02-666324fd165f",
   "metadata": {},
   "source": [
    "## testing"
   ]
  },
  {
   "cell_type": "code",
   "execution_count": 34,
   "id": "d994e3a2-e1b0-4175-a332-f6ee029d6c75",
   "metadata": {},
   "outputs": [
    {
     "name": "stdout",
     "output_type": "stream",
     "text": [
      "document embedding creation done\n"
     ]
    }
   ],
   "source": [
    "loader = PyPDFDirectoryLoader(f\"{docs_directory}\")\n",
    "# documents = loader.load()\n",
    "docs = loader.load_and_split()\n",
    "# chunk size refers to max no. of chars, not tokens\n",
    "#     text_splitter = CharacterTextSplitter(separator = \"\\n\\n\", \n",
    "#                                           chunk_size=800, \n",
    "#                                           chunk_overlap=80, \n",
    "#                                           length_function = len)\n",
    "\n",
    "#     texts = text_splitter.split_documents(documents)\n",
    "\n",
    "chroma_db = Chroma.from_documents(docs,#texts, \n",
    "                                  palm_embedding, \n",
    "                                  collection_name=collection_name, \n",
    "                                  persist_directory=persist_directory)\n",
    "chroma_db.persist()\n",
    "print(\"document embedding creation done\")"
   ]
  },
  {
   "cell_type": "code",
   "execution_count": 53,
   "id": "2639dd44-c8b6-44a1-95f5-7272bca99a57",
   "metadata": {},
   "outputs": [],
   "source": [
    "# Expose index to the retriever\n",
    "retriever = chroma_db.as_retriever(search_type=\"similarity\", search_kwargs={\"k\": 3})"
   ]
  },
  {
   "cell_type": "code",
   "execution_count": 62,
   "id": "ae0a8818-51ff-4c0f-bf8a-53c4a56e9524",
   "metadata": {},
   "outputs": [],
   "source": [
    "docs = retriever.get_relevant_documents(\"Class licence for fundraiser lotteries\")"
   ]
  },
  {
   "cell_type": "code",
   "execution_count": 63,
   "id": "d053e0ed-64cd-42d3-a9fd-cbbaa6d9bbef",
   "metadata": {},
   "outputs": [
    {
     "name": "stdout",
     "output_type": "stream",
     "text": [
      "Excluded gambling services\n",
      "3.This Order does not apply to the provision of any gambling\n",
      "service that is covered by a class licence under —\n",
      "(a) the Gambling Control (Minor Gambling —Class Licence)\n",
      "Order 2022 (G.N. No. S 659/2022); or\n",
      "(b) the Gambling Control (Trade and Other Promotional\n",
      "Games and Lotteries —Class Licence) Order 2022\n",
      "(G.N. No. S 660/2022).\n",
      "Class licence for fundraiser lotteries\n",
      "4.—(1) Unless exempt under section 128 of the Act, every eligible\n",
      "person who provides a gambling service by conducting a fundraiser\n",
      "lottery at any time on or after 2 August 2022 in or from any place in\n",
      "Singapore, is subject by virtue of this Order to a class licence inconnection with the provision of such a gambling service.\n",
      "(2) Where a fundraiser lottery is conducted, at any time on or after\n",
      "2 August 2022 in or from any place in Singapore, by a gambling\n",
      "service agent acting under the authority of an eligible person, the\n",
      "gambling service agent is also subject by virtue of this Order to a class\n",
      "licence in connection with the provision of a gambling service by\n",
      "conducting that fundraiser lottery.\n",
      "(3) However, despite sub-paragraphs (1) and (2), an eligible person,\n",
      "and the gambling service agent of an eligible person, are not, byvirtue of this Order, subject to a class licence for a fundraiser lottery\n",
      "conducted on or after 2 August 2022 by the eligible person or the\n",
      "gambling service agent —\n",
      "(a) in 2022 or in any subsequent year; and\n",
      "(b) for a benefitting organisation (who may or may not also be\n",
      "that eligible person),\n",
      "if, within that same year, one other fundraiser lottery has earlier been\n",
      "conducted for the benefit of the same benefitting organisation.\n",
      "(4) To avoid doubt, any fundraiser lottery conducted in or from any\n",
      "place in Singapore between 1 January 2022 and 1 August 2022 (bothS 661/2022 6\n",
      "Informal Consolidation –version in force from 2/8/2022\n"
     ]
    }
   ],
   "source": [
    "print(docs[0].page_content)"
   ]
  },
  {
   "cell_type": "code",
   "execution_count": null,
   "id": "676cfee8-7d09-43c7-9fb9-155bf12ace8c",
   "metadata": {},
   "outputs": [],
   "source": []
  },
  {
   "cell_type": "code",
   "execution_count": null,
   "id": "dd05e9dc-dea5-4d25-bf99-3a9617773482",
   "metadata": {},
   "outputs": [],
   "source": []
  },
  {
   "cell_type": "code",
   "execution_count": null,
   "id": "6cead5cd-6e72-40ac-9a77-9e82f945d39d",
   "metadata": {},
   "outputs": [],
   "source": [
    "def initialize_chromadb():\n",
    "    print(\"creating embedding for documents...\")\n",
    "    if os.path.exists(persist_directory):\n",
    "        # Remove the entire directory and its content\n",
    "        shutil.rmtree(persist_directory)\n",
    "        print(\"existing collection is deleted\")\n",
    "\n",
    "    #loader = DirectoryLoader(f\"{docs_directory}\", glob=\"**/*.txt\")\n",
    "    #loader = DirectoryLoader(f\"{docs_directory}\", glob=\"**/*\")\n",
    "    loader = PyPDFDirectoryLoader(f\"{docs_directory}\")\n",
    "    # documents = loader.load()\n",
    "    docs = loader.load_and_split()\n",
    "    # chunk size refers to max no. of chars, not tokens\n",
    "#     text_splitter = CharacterTextSplitter(separator = \"\\n\\n\", \n",
    "#                                           chunk_size=800, \n",
    "#                                           chunk_overlap=80, \n",
    "#                                           length_function = len)\n",
    "    \n",
    "#     texts = text_splitter.split_documents(documents)\n",
    "\n",
    "    chroma_db = Chroma.from_documents(docs,#texts, \n",
    "                                      palm_embedding, \n",
    "                                      collection_name=collection_name, \n",
    "                                      persist_directory=persist_directory)\n",
    "    chroma_db.persist()\n",
    "    print(\"document embedding creation done\")\n",
    "\n",
    "initialize_chromadb()"
   ]
  },
  {
   "cell_type": "code",
   "execution_count": null,
   "id": "c9519fef-cd12-4b36-91d5-991dd3abf784",
   "metadata": {},
   "outputs": [],
   "source": [
    "# https://safe.menlosecurity.com/https://github.com/chroma-core/chroma/blob/main/chromadb/utils/embedding_functions.py\n",
    "# palm_embedding = embedding_functions.GooglePalmEmbeddingFunction(api_key=os.environ[\"PALM_API_KEY\"], \n",
    "#                                                                  model_name=palm_embedding_model.name)\n",
    "\n",
    "# palm_embedding = GooglePalmEmbeddings(google_api_key=os.environ[\"PALM_API_KEY\"], \n",
    "#                                       model_name=palm_embedding_model.name)"
   ]
  }
 ],
 "metadata": {
  "kernelspec": {
   "display_name": "Python 3 (ipykernel)",
   "language": "python",
   "name": "python3"
  },
  "language_info": {
   "codemirror_mode": {
    "name": "ipython",
    "version": 3
   },
   "file_extension": ".py",
   "mimetype": "text/x-python",
   "name": "python",
   "nbconvert_exporter": "python",
   "pygments_lexer": "ipython3",
   "version": "3.10.9"
  }
 },
 "nbformat": 4,
 "nbformat_minor": 5
}
